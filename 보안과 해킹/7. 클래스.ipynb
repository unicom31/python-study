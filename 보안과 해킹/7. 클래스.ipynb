{
 "cells": [
  {
   "cell_type": "code",
   "execution_count": null,
   "id": "094c8d88-cfaf-4021-8280-5eeb98856fde",
   "metadata": {},
   "outputs": [],
   "source": [
    "클래스 기능 변경"
   ]
  },
  {
   "cell_type": "markdown",
   "id": "7a6eb0aa-1387-4fdd-9ee5-73efd093bf06",
   "metadata": {},
   "source": [
    "## 클래스는 1개 이상 함수, 변수로 정의됨, 상속 가능"
   ]
  },
  {
   "cell_type": "code",
   "execution_count": 2,
   "id": "efabbb31-9bf6-41a4-a976-9c6648136418",
   "metadata": {},
   "outputs": [],
   "source": [
    "class cexam():\n",
    "    def fsam(self):\n",
    "        self.text = '멥버 함수(메소드)'\n",
    "        print(self.text)"
   ]
  },
  {
   "cell_type": "code",
   "execution_count": 3,
   "id": "5bb59248-65ec-46c7-abcc-e82d1baa2d94",
   "metadata": {},
   "outputs": [],
   "source": [
    "ca = cexam()   # 객체 생성"
   ]
  },
  {
   "cell_type": "code",
   "execution_count": 4,
   "id": "ad715308-2ba8-43c8-a1a5-bc8cbda36e3c",
   "metadata": {},
   "outputs": [
    {
     "name": "stdout",
     "output_type": "stream",
     "text": [
      "<__main__.cexam object at 0x000002891C1E7C80>\n"
     ]
    }
   ],
   "source": [
    "print(ca)"
   ]
  },
  {
   "cell_type": "code",
   "execution_count": 5,
   "id": "8f561a8d-47f0-47ab-a6e8-6ab43128c65e",
   "metadata": {},
   "outputs": [
    {
     "name": "stdout",
     "output_type": "stream",
     "text": [
      "멥버 함수(메소드)\n"
     ]
    }
   ],
   "source": [
    "ca.fsam()     #  생성된 객체.멤버함수명()   -  함수를 샐행"
   ]
  },
  {
   "cell_type": "code",
   "execution_count": 6,
   "id": "e70d2949-8050-4e6a-9f21-073be700521b",
   "metadata": {},
   "outputs": [],
   "source": [
    "class cexam():\n",
    "    def fsama(self):\n",
    "        self.text = '멥버 함수(메소드)'\n",
    "        print(self.text)\n",
    "        \n",
    "    def fsamb(self, pa):\n",
    "        self.x = pa\n",
    "        print('멥버 변수 X는 ', self.x)"
   ]
  },
  {
   "cell_type": "code",
   "execution_count": 7,
   "id": "4773be3e-b73d-4482-b584-b7bac3296f9f",
   "metadata": {},
   "outputs": [],
   "source": [
    "ca = cexam()   # 객체 생성"
   ]
  },
  {
   "cell_type": "code",
   "execution_count": 8,
   "id": "83f99027-7f31-4f8e-a16c-e2d261cc29fc",
   "metadata": {},
   "outputs": [
    {
     "name": "stdout",
     "output_type": "stream",
     "text": [
      "멥버 함수(메소드)\n"
     ]
    }
   ],
   "source": [
    "ca.fsama()"
   ]
  },
  {
   "cell_type": "code",
   "execution_count": 10,
   "id": "30a3ca55-5041-4316-9acd-17254030aa5a",
   "metadata": {},
   "outputs": [
    {
     "name": "stdout",
     "output_type": "stream",
     "text": [
      "멥버 변수 X는  10\n"
     ]
    }
   ],
   "source": [
    "ca.fsamb(10)"
   ]
  },
  {
   "cell_type": "markdown",
   "id": "34c3d9d8-05ea-480a-9ae2-4ef55021a183",
   "metadata": {},
   "source": [
    "## 초기 메소드 \"__init__\""
   ]
  },
  {
   "cell_type": "code",
   "execution_count": 4,
   "id": "964de4ac-24b9-4976-88bf-67c2dea35d36",
   "metadata": {},
   "outputs": [],
   "source": [
    "class cexam():\n",
    "    def __init__(self, pa):\n",
    "        self.x = pa\n",
    "        print('멤버 변수 X는 ', self.x)\n",
    "    def fsam(self):\n",
    "        self.text = '멤버 함수(메소드)'\n",
    "        print(self.text)"
   ]
  },
  {
   "cell_type": "code",
   "execution_count": 5,
   "id": "10303040-8ee5-473c-8d76-0d6e96d9024c",
   "metadata": {},
   "outputs": [
    {
     "name": "stdout",
     "output_type": "stream",
     "text": [
      "멤버 젼수 X는  10\n"
     ]
    }
   ],
   "source": [
    "ca = cexam(10)   # 객체 생성과 동시에 10값을  __init__(pa) 에 전달\\"
   ]
  },
  {
   "cell_type": "code",
   "execution_count": 6,
   "id": "41b42b35-9007-4cdd-bf90-82b6a8ee52de",
   "metadata": {},
   "outputs": [
    {
     "name": "stdout",
     "output_type": "stream",
     "text": [
      "멤버 함수(메소드)\n"
     ]
    }
   ],
   "source": [
    "ca.fsam()"
   ]
  },
  {
   "cell_type": "code",
   "execution_count": 7,
   "id": "c3f5e717-323e-4230-b6b7-2a5be05fa4c2",
   "metadata": {},
   "outputs": [
    {
     "data": {
      "text/plain": [
       "10"
      ]
     },
     "execution_count": 7,
     "metadata": {},
     "output_type": "execute_result"
    }
   ],
   "source": [
    "ca.x"
   ]
  },
  {
   "cell_type": "code",
   "execution_count": 9,
   "id": "156d6e3c-00cc-411e-8170-2ab8d121b39a",
   "metadata": {},
   "outputs": [
    {
     "name": "stdout",
     "output_type": "stream",
     "text": [
      "멤버 젼수 X는  30\n"
     ]
    }
   ],
   "source": [
    "cb = cexam(30) "
   ]
  },
  {
   "cell_type": "code",
   "execution_count": 10,
   "id": "f0704320-7c13-4b4c-a15f-b6fc2d70095f",
   "metadata": {},
   "outputs": [
    {
     "data": {
      "text/plain": [
       "30"
      ]
     },
     "execution_count": 10,
     "metadata": {},
     "output_type": "execute_result"
    }
   ],
   "source": [
    "cb.x    # ca.x 하고는 다른 변수"
   ]
  },
  {
   "cell_type": "markdown",
   "id": "02e80710-9980-40bf-8284-41507ed0195a",
   "metadata": {},
   "source": [
    "##  self의 의미"
   ]
  },
  {
   "cell_type": "code",
   "execution_count": 25,
   "id": "14ee101b-420f-471e-8c47-1e75c8afec8a",
   "metadata": {},
   "outputs": [],
   "source": [
    "class cexam():\n",
    "    def __init__(self, pa, pb):\n",
    "        self.x = pa\n",
    "        y = pb\n",
    "        print('멤버 변수 X는 ', self.x)\n",
    "        print('변수 Y는 ', y)\n",
    "        \n",
    "    def fsam(self):\n",
    "        self.text = '멤버 함수(메소드)'\n",
    "        print(self.text)\n",
    "        \n",
    "    def fsamb():    # self라는 멤버 변수 없는 것\n",
    "        print('멤버 함수 아니다.')"
   ]
  },
  {
   "cell_type": "code",
   "execution_count": 26,
   "id": "ceb594f9-8857-4001-9ac3-1bb03376f38f",
   "metadata": {},
   "outputs": [
    {
     "name": "stdout",
     "output_type": "stream",
     "text": [
      "멤버 변수 X는  10\n",
      "변수 Y는  20\n"
     ]
    }
   ],
   "source": [
    "ca =  cexam(10, 20)"
   ]
  },
  {
   "cell_type": "code",
   "execution_count": 27,
   "id": "ff4c8f75-32fe-4d54-8fce-c1f83d9b66ad",
   "metadata": {},
   "outputs": [
    {
     "name": "stdout",
     "output_type": "stream",
     "text": [
      "멤버 함수(메소드)\n"
     ]
    }
   ],
   "source": [
    "ca.fsam()"
   ]
  },
  {
   "cell_type": "code",
   "execution_count": 28,
   "id": "cfda4474-b301-4b94-bb70-b12d58fe4a97",
   "metadata": {},
   "outputs": [
    {
     "ename": "TypeError",
     "evalue": "cexam.fsamb() takes 0 positional arguments but 1 was given",
     "output_type": "error",
     "traceback": [
      "\u001b[1;31m---------------------------------------------------------------------------\u001b[0m",
      "\u001b[1;31mTypeError\u001b[0m                                 Traceback (most recent call last)",
      "Cell \u001b[1;32mIn[28], line 1\u001b[0m\n\u001b[1;32m----> 1\u001b[0m ca\u001b[38;5;241m.\u001b[39mfsamb()\n",
      "\u001b[1;31mTypeError\u001b[0m: cexam.fsamb() takes 0 positional arguments but 1 was given"
     ]
    }
   ],
   "source": [
    "ca.fsamb()"
   ]
  },
  {
   "cell_type": "markdown",
   "id": "da8cde78-3273-4486-9a45-caba4282dcc9",
   "metadata": {},
   "source": [
    "## 파이썬에서 변수와 기억장소(메모리) 할당"
   ]
  },
  {
   "cell_type": "code",
   "execution_count": 29,
   "id": "e0eb4fdf-632f-4d3b-8e7e-1f2e7fc37460",
   "metadata": {},
   "outputs": [],
   "source": [
    "class Calcurator:\n",
    "    def setinit(self):\n",
    "        self.result = 0\n",
    "    def adder(self, num):\n",
    "        self.result = self.result + num\n",
    "        return self.result"
   ]
  },
  {
   "cell_type": "code",
   "execution_count": 30,
   "id": "093007a3-79cd-468f-9f83-6a47602f3e30",
   "metadata": {},
   "outputs": [],
   "source": [
    "cal1 = Calcurator()"
   ]
  },
  {
   "cell_type": "code",
   "execution_count": 31,
   "id": "823458dd-6199-4305-8c5c-a98dde99dde0",
   "metadata": {},
   "outputs": [],
   "source": [
    "cal1.setinit()"
   ]
  },
  {
   "cell_type": "code",
   "execution_count": 32,
   "id": "d0bd0f3c-0ca8-4c95-bf23-3050dc8c2e3f",
   "metadata": {},
   "outputs": [
    {
     "name": "stdout",
     "output_type": "stream",
     "text": [
      "0\n"
     ]
    }
   ],
   "source": [
    "print(cal1.result)"
   ]
  },
  {
   "cell_type": "code",
   "execution_count": 33,
   "id": "a51ba7aa-d3a6-4b8d-bde6-409e21b655da",
   "metadata": {},
   "outputs": [],
   "source": [
    "cal2 = Calcurator()\n",
    "cal2.setinit()"
   ]
  },
  {
   "cell_type": "code",
   "execution_count": 34,
   "id": "fd8da2b1-06c6-4cd1-88fe-ab2fdebd685e",
   "metadata": {},
   "outputs": [
    {
     "name": "stdout",
     "output_type": "stream",
     "text": [
      "0\n",
      "0\n"
     ]
    }
   ],
   "source": [
    "print(cal1.result)\n",
    "print(cal2.result)"
   ]
  },
  {
   "cell_type": "code",
   "execution_count": 36,
   "id": "ae0e892c-8179-4d28-a396-baa208234a01",
   "metadata": {},
   "outputs": [
    {
     "name": "stdout",
     "output_type": "stream",
     "text": [
      "3\n",
      "4\n"
     ]
    }
   ],
   "source": [
    "print(cal1.adder(3))\n",
    "print(cal2.adder(4))"
   ]
  },
  {
   "cell_type": "code",
   "execution_count": 37,
   "id": "49d10447-434e-4879-8398-aad040149e99",
   "metadata": {},
   "outputs": [
    {
     "name": "stdout",
     "output_type": "stream",
     "text": [
      "3\n",
      "4\n"
     ]
    }
   ],
   "source": [
    "print(cal1.result)\n",
    "print(cal2.result)"
   ]
  },
  {
   "cell_type": "code",
   "execution_count": 38,
   "id": "1d7496e3-b7e2-4a99-94d6-7220da4289b2",
   "metadata": {},
   "outputs": [
    {
     "name": "stdout",
     "output_type": "stream",
     "text": [
      "6\n",
      "11\n"
     ]
    }
   ],
   "source": [
    "print(cal1.adder(3))\n",
    "print(cal2.adder(7))"
   ]
  },
  {
   "cell_type": "code",
   "execution_count": 39,
   "id": "38902b31-1b1d-4026-b87f-d81490ad12cd",
   "metadata": {},
   "outputs": [
    {
     "name": "stdout",
     "output_type": "stream",
     "text": [
      "10\n",
      "20\n"
     ]
    }
   ],
   "source": [
    "cal3 = Calcurator()\n",
    "cal3.setinit()\n",
    "print(cal3.adder(10))\n",
    "print(cal3.adder(10))"
   ]
  },
  {
   "cell_type": "code",
   "execution_count": 40,
   "id": "aae9161c-6434-4bad-afe2-6264ab7921dd",
   "metadata": {
    "scrolled": true
   },
   "outputs": [
    {
     "name": "stdout",
     "output_type": "stream",
     "text": [
      "6\n",
      "11\n"
     ]
    }
   ],
   "source": [
    "print(cal1.result)\n",
    "print(cal2.result)"
   ]
  },
  {
   "cell_type": "code",
   "execution_count": 43,
   "id": "84235bcc-78d7-4e48-9ca6-435451b802f9",
   "metadata": {},
   "outputs": [
    {
     "data": {
      "text/plain": [
       "10"
      ]
     },
     "execution_count": 43,
     "metadata": {},
     "output_type": "execute_result"
    }
   ],
   "source": [
    "cal4 = Calcurator()\n",
    "cal4.setinit()\n",
    "cal4.adder(10)"
   ]
  },
  {
   "cell_type": "markdown",
   "id": "78f62de9-4082-45ae-aacd-11d5745d27c6",
   "metadata": {},
   "source": [
    "## __init__ 메소드는 객체의 변수 값을 초기화"
   ]
  },
  {
   "cell_type": "code",
   "execution_count": 45,
   "id": "8fc56ce7-8a52-479c-abb2-0bf6983308c6",
   "metadata": {},
   "outputs": [],
   "source": [
    "class Calcurator:\n",
    "    def __init__(self):\n",
    "        self.result = 0\n",
    "    def adder(self, num):\n",
    "        self.result = self.result + num\n",
    "        return self.result"
   ]
  },
  {
   "cell_type": "code",
   "execution_count": 46,
   "id": "d3a32544-2b94-4d1e-a533-2e309c93998c",
   "metadata": {},
   "outputs": [
    {
     "data": {
      "text/plain": [
       "10"
      ]
     },
     "execution_count": 46,
     "metadata": {},
     "output_type": "execute_result"
    }
   ],
   "source": [
    "cal5 = Calcurator()\n",
    "cal5.adder(10)"
   ]
  },
  {
   "cell_type": "code",
   "execution_count": 51,
   "id": "889d8018-fa6d-4164-87c5-71e3a22778f7",
   "metadata": {},
   "outputs": [],
   "source": [
    "## 벰버 파라미터값으로 변수 초기화\n",
    "\n",
    "class Car:\n",
    "    def __init__(self, pnum, pspeed):\n",
    "        self.num = pnum\n",
    "        self.speed = pspeed"
   ]
  },
  {
   "cell_type": "code",
   "execution_count": 52,
   "id": "ccb83724-98c0-4c14-9fd9-71c352910b64",
   "metadata": {},
   "outputs": [],
   "source": [
    "new_car = Car(2025, 90)"
   ]
  },
  {
   "cell_type": "code",
   "execution_count": 54,
   "id": "c6eb054d-2047-4aef-832d-4a8b56fea79d",
   "metadata": {},
   "outputs": [
    {
     "name": "stdout",
     "output_type": "stream",
     "text": [
      "차량 번호  : 2025\n",
      " 속 도 는  : 90\n"
     ]
    }
   ],
   "source": [
    "print('차량 번호  :', new_car.num)\n",
    "print(' 속 도 는  :', new_car.speed)"
   ]
  },
  {
   "cell_type": "code",
   "execution_count": 57,
   "id": "7741c4e3-32ab-4841-99d5-3a1f5904e3df",
   "metadata": {},
   "outputs": [],
   "source": [
    "class Car:\n",
    "    def __init__(self, pnum, pspeed):\n",
    "        self.num = pnum\n",
    "        self.speed = pspeed\n",
    "    def fprint(self):\n",
    "        print('차량 번호  :', self.num)\n",
    "        print(' 속 도 는  :', self.speed)"
   ]
  },
  {
   "cell_type": "code",
   "execution_count": 59,
   "id": "07dfb256-af20-4e52-9a07-8f089f154d22",
   "metadata": {},
   "outputs": [
    {
     "name": "stdout",
     "output_type": "stream",
     "text": [
      "차량 번호  : 2025\n",
      " 속 도 는  : 90\n"
     ]
    }
   ],
   "source": [
    "new_car = Car(2025, 90)\n",
    "new_car.fprint()"
   ]
  },
  {
   "cell_type": "code",
   "execution_count": 61,
   "id": "1eb5af92-a335-46c5-88f4-93ff7566140c",
   "metadata": {},
   "outputs": [
    {
     "name": "stdout",
     "output_type": "stream",
     "text": [
      "객체 obj 내의 인스턴스 변수 x의 값은  10\n",
      "객체 obj 내의 인스턴스 변수 x의 값은  10\n",
      "객체 obj 내의 인스턴스 변수 x의 값은  30\n"
     ]
    }
   ],
   "source": [
    "class Cadd:\n",
    "    def fadd(self, a, b):\n",
    "        self.x = a\n",
    "        self.y = b\n",
    "        self.hap=self.x + self.y\n",
    "\n",
    "obj = Cadd()\n",
    "obj.fadd(10, 20)\n",
    "\n",
    "print('객체 obj 내의 인스턴스 변수 x의 값은 ', obj.x)\n",
    "print('객체 obj 내의 인스턴스 변수 x의 값은 ', obj.x)\n",
    "print('객체 obj 내의 인스턴스 변수 x의 값은 ', obj.hap)"
   ]
  },
  {
   "cell_type": "code",
   "execution_count": 63,
   "id": "d7b5a3ad-21f2-4d0a-9f2a-ff7949442d70",
   "metadata": {},
   "outputs": [
    {
     "name": "stdout",
     "output_type": "stream",
     "text": [
      "ohap의 값은 ? 30\n"
     ]
    }
   ],
   "source": [
    "class Cadd:\n",
    "    def fadd(self, a, b):\n",
    "        x = a\n",
    "        y = b\n",
    "        hap=x + y\n",
    "        return hap\n",
    "\n",
    "obj = Cadd()\n",
    "ohap = obj.fadd(10, 20)\n",
    "\n",
    "print('ohap의 값은 ?', ohap)"
   ]
  },
  {
   "cell_type": "code",
   "execution_count": 64,
   "id": "c7a50ff5-27cf-41c1-872a-d1cdb9c144b2",
   "metadata": {},
   "outputs": [
    {
     "name": "stdout",
     "output_type": "stream",
     "text": [
      "ohap의 값은 ? 30\n"
     ]
    }
   ],
   "source": [
    "class Cadd:\n",
    "    def fadd(self, a, b):\n",
    "        self.x = a\n",
    "        self.y = b\n",
    "        self.hap=self.x + self.y\n",
    "        return self.hap\n",
    "\n",
    "obj = Cadd()\n",
    "ohap = obj.fadd(10, 20)\n",
    "\n",
    "print('ohap의 값은 ?', ohap)"
   ]
  },
  {
   "cell_type": "code",
   "execution_count": 65,
   "id": "097fbcbd-2a38-4148-aab4-33cbfe02042c",
   "metadata": {},
   "outputs": [
    {
     "name": "stdout",
     "output_type": "stream",
     "text": [
      "ohap의 값은 ? 3\n"
     ]
    }
   ],
   "source": [
    "# 객체 멤버함수의 파라미터ㅗ에 초기값 설정\n",
    "class Cadd:\n",
    "    def fadd(self, a=1, b=2):\n",
    "        self.x = a\n",
    "        self.y = b\n",
    "        self.hap=self.x + self.y\n",
    "        return self.hap\n",
    "\n",
    "obj = Cadd()\n",
    "ohap = obj.fadd()\n",
    "\n",
    "print('ohap의 값은 ?', ohap)"
   ]
  },
  {
   "cell_type": "code",
   "execution_count": 66,
   "id": "ec2deece-d997-4950-a8b4-8e3b47ff7133",
   "metadata": {},
   "outputs": [
    {
     "name": "stdout",
     "output_type": "stream",
     "text": [
      "ohap의 값은 ? 30\n"
     ]
    }
   ],
   "source": [
    "ohap = obj.fadd(10, 20)\n",
    "\n",
    "print('ohap의 값은 ?', ohap)"
   ]
  },
  {
   "cell_type": "code",
   "execution_count": 67,
   "id": "a2a241f5-6082-4568-a7e2-16bb2667207d",
   "metadata": {},
   "outputs": [
    {
     "name": "stdout",
     "output_type": "stream",
     "text": [
      "ohap의 값은 ? 12\n"
     ]
    }
   ],
   "source": [
    "ohap = obj.fadd(10)\n",
    "\n",
    "print('ohap의 값은 ?', ohap)"
   ]
  },
  {
   "cell_type": "code",
   "execution_count": 68,
   "id": "f87cfe27-6113-4a84-b3da-c970e4a5f1a2",
   "metadata": {},
   "outputs": [
    {
     "ename": "SyntaxError",
     "evalue": "invalid syntax (4166015159.py, line 1)",
     "output_type": "error",
     "traceback": [
      "\u001b[1;36m  Cell \u001b[1;32mIn[68], line 1\u001b[1;36m\u001b[0m\n\u001b[1;33m    ohap = obj.fadd( , 10)\u001b[0m\n\u001b[1;37m                     ^\u001b[0m\n\u001b[1;31mSyntaxError\u001b[0m\u001b[1;31m:\u001b[0m invalid syntax\n"
     ]
    }
   ],
   "source": [
    "ohap = obj.fadd( , 10)\n",
    "\n",
    "print('ohap의 값은 ?', ohap)"
   ]
  },
  {
   "cell_type": "code",
   "execution_count": 69,
   "id": "325890a9-0427-49ad-878b-40b33f8c65b9",
   "metadata": {},
   "outputs": [
    {
     "ename": "TypeError",
     "evalue": "__init__() should return None, not 'int'",
     "output_type": "error",
     "traceback": [
      "\u001b[1;31m---------------------------------------------------------------------------\u001b[0m",
      "\u001b[1;31mTypeError\u001b[0m                                 Traceback (most recent call last)",
      "Cell \u001b[1;32mIn[69], line 8\u001b[0m\n\u001b[0;32m      5\u001b[0m         \u001b[38;5;28mself\u001b[39m\u001b[38;5;241m.\u001b[39mhap\u001b[38;5;241m=\u001b[39m\u001b[38;5;28mself\u001b[39m\u001b[38;5;241m.\u001b[39mx \u001b[38;5;241m+\u001b[39m \u001b[38;5;28mself\u001b[39m\u001b[38;5;241m.\u001b[39my\n\u001b[0;32m      6\u001b[0m         \u001b[38;5;28;01mreturn\u001b[39;00m \u001b[38;5;28mself\u001b[39m\u001b[38;5;241m.\u001b[39mhap\n\u001b[1;32m----> 8\u001b[0m ohap \u001b[38;5;241m=\u001b[39m Cadd(\u001b[38;5;241m10\u001b[39m, \u001b[38;5;241m20\u001b[39m)\n\u001b[0;32m     10\u001b[0m \u001b[38;5;28mprint\u001b[39m(\u001b[38;5;124m'\u001b[39m\u001b[38;5;124mohap의 값은 ?\u001b[39m\u001b[38;5;124m'\u001b[39m, ohap)\n",
      "\u001b[1;31mTypeError\u001b[0m: __init__() should return None, not 'int'"
     ]
    }
   ],
   "source": [
    "class Cadd:\n",
    "    def __init__(self, a=1, b=2):\n",
    "        self.x = a\n",
    "        self.y = b\n",
    "        self.hap=self.x + self.y\n",
    "        return self.hap   # __init__ Return 을 사용할 수 없음\n",
    "        \n",
    "ohap = Cadd(10, 20)\n",
    "\n",
    "print('ohap의 값은 ?', ohap)"
   ]
  },
  {
   "cell_type": "code",
   "execution_count": 1,
   "id": "85f2f041-9b0b-4902-8c22-0702e741d820",
   "metadata": {},
   "outputs": [],
   "source": [
    "class Ccalc:\n",
    "\n",
    "    def fadd(self, a ,b):\n",
    "        self.a = a\n",
    "        self.b = b\n",
    "        return self.a + self.b\n",
    "        \n",
    "    def fsub(self, a ,b):\n",
    "        self.a = a\n",
    "        self.b = b\n",
    "        return self.a - self.b\n",
    "\n",
    "    def fmul(self, a ,b):\n",
    "        self.a = a\n",
    "        self.b = b\n",
    "        return self.a * self.b\n",
    "\n",
    "    def fdiv(self, a ,b):\n",
    "        self.a = a\n",
    "        self.b = b\n",
    "        return self.a / self.b\n"
   ]
  },
  {
   "cell_type": "code",
   "execution_count": 2,
   "id": "56a97507-438f-4fde-a386-4c24baea316d",
   "metadata": {},
   "outputs": [
    {
     "name": "stdout",
     "output_type": "stream",
     "text": [
      "30\n",
      "-10\n",
      "200\n",
      "0.5\n"
     ]
    }
   ],
   "source": [
    "cal1 = Ccalc()\n",
    "print(cal1.fadd(10,20))\n",
    "print(cal1.fsub(10,20))\n",
    "print(cal1.fmul(10,20))\n",
    "print(cal1.fdiv(10,20))"
   ]
  },
  {
   "cell_type": "code",
   "execution_count": 3,
   "id": "9658da3c-183a-46e8-894d-a9fa8fffeaa4",
   "metadata": {},
   "outputs": [
    {
     "name": "stdout",
     "output_type": "stream",
     "text": [
      " C 드라이브의 볼륨: Windows \n",
      " 볼륨 일련 번호: 121D-8712\n",
      "\n",
      " C:\\Users\\ITBANK NR 306_1\\보안과 해킹 디렉터리\n",
      "\n",
      "2025-02-04  오후 01:26    <DIR>          .\n",
      "2025-02-03  오후 04:49    <DIR>          ..\n",
      "2025-02-04  오전 08:48    <DIR>          .ipynb_checkpoints\n",
      "2025-01-24  오후 02:28            12,579 1. 변수와 데이터 타입 기초.ipynb\n",
      "2025-02-03  오후 01:32            18,247 2. 제어문과 반복문.ipynb\n",
      "2025-02-03  오전 11:02            13,324 3. 리스트.ipynb\n",
      "2025-02-03  오전 11:48             9,637 4. 튜플과 딕셔너리.ipynb\n",
      "2025-02-03  오후 02:25            12,922 5. 함수.ipynb\n",
      "2025-02-03  오후 03:40            15,999 6. 자료 구조와 알고리리즘.ipynb\n",
      "2025-02-04  오후 01:24            21,531 7. 클래스.ipynb\n",
      "2025-02-03  오전 09:16             6,582 encryptor.ipynb\n",
      "2024-03-14  오전 11:24               710 fcal.py\n",
      "2025-02-03  오후 04:59                20 hello.py\n",
      "2025-02-04  오전 08:52             1,273 Untitled.ipynb\n",
      "              11개 파일             112,824 바이트\n",
      "               3개 디렉터리  128,257,507,328 바이트 남음\n"
     ]
    }
   ],
   "source": [
    "!dir\n"
   ]
  },
  {
   "cell_type": "code",
   "execution_count": 4,
   "id": "e5ccb84b-e0e6-4278-b4bd-7ef98a53bd38",
   "metadata": {},
   "outputs": [],
   "source": [
    "from fcal import Fcalc, Fcala   # fcal.py 존재하는 클래스 Fcalc, Fcala 를 불러온다."
   ]
  },
  {
   "cell_type": "code",
   "execution_count": 5,
   "id": "29927961-f174-42b1-ac08-2a343f38bde3",
   "metadata": {},
   "outputs": [],
   "source": [
    "cal1 = Fcalc()"
   ]
  },
  {
   "cell_type": "code",
   "execution_count": 6,
   "id": "c4dc86ef-346b-45d1-9b2f-4e835423f752",
   "metadata": {},
   "outputs": [
    {
     "name": "stdout",
     "output_type": "stream",
     "text": [
      "30\n",
      "-10\n",
      "200\n",
      "0.5\n"
     ]
    }
   ],
   "source": [
    "print(cal1.fadd(10, 20))\n",
    "print(cal1.fsub(10, 20))\n",
    "print(cal1.fmul(10, 20))\n",
    "print(cal1.fdiv(10, 20))"
   ]
  },
  {
   "cell_type": "code",
   "execution_count": 7,
   "id": "6b120cab-2fe3-426e-afbc-31718580f6ef",
   "metadata": {},
   "outputs": [],
   "source": [
    "cal2 = Fcala()"
   ]
  },
  {
   "cell_type": "code",
   "execution_count": 9,
   "id": "e1c18117-3c30-4b2f-bf84-cee4b23f32cf",
   "metadata": {},
   "outputs": [
    {
     "data": {
      "text/plain": [
       "100"
      ]
     },
     "execution_count": 9,
     "metadata": {},
     "output_type": "execute_result"
    }
   ],
   "source": [
    "cal2.fsqrt(10, 2)"
   ]
  },
  {
   "cell_type": "code",
   "execution_count": null,
   "id": "0692689e-c3af-4b9a-ae25-5321ed77e703",
   "metadata": {},
   "outputs": [],
   "source": []
  }
 ],
 "metadata": {
  "kernelspec": {
   "display_name": "Python 3 (ipykernel)",
   "language": "python",
   "name": "python3"
  },
  "language_info": {
   "codemirror_mode": {
    "name": "ipython",
    "version": 3
   },
   "file_extension": ".py",
   "mimetype": "text/x-python",
   "name": "python",
   "nbconvert_exporter": "python",
   "pygments_lexer": "ipython3",
   "version": "3.12.8"
  }
 },
 "nbformat": 4,
 "nbformat_minor": 5
}
