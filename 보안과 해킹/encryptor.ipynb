{
 "cells": [
  {
   "cell_type": "code",
   "execution_count": 21,
   "id": "71438b8b-9f29-4d75-baae-988b16cd5c79",
   "metadata": {},
   "outputs": [
    {
     "name": "stdout",
     "output_type": "stream",
     "text": [
      "{'a': '5', 'b': '2', 'd': '#', 'e': '8', 'f': '1', 'g': '3', 'h': '4', 'i': '6', 'l': '0', 'm': '9', 'n': '*', 'o': '%', 'p': '=', 'r': '(', 's': ')', 't': ';', 'u': '?', 'v': '@', 'y': ':', ' ': '7'}\n"
     ]
    }
   ],
   "source": [
    "decbook = {'5':'a', '2':'b', '#':'d', '8':'e', '1':'f', '3':'g', '4':'h', '6':'i', '0':'l', '9':'m',\\\n",
    "    '*':'n', '%':'o', '=':'p', '(':'r', ')':'s', ';':'t', '?':'u', '@':'v', ':':'y', '7':' '}\n",
    "\t\t\n",
    "encbook = {}\n",
    "\n",
    "for k in decbook:\n",
    "    val = decbook[k]\n",
    "    encbook[val] = k\n",
    "    \n",
    "print(encbook)"
   ]
  },
  {
   "cell_type": "code",
   "execution_count": 5,
   "id": "5cf6b79c-16ba-4d98-9e13-664188a0e7d7",
   "metadata": {},
   "outputs": [],
   "source": [
    "def makeCodebook():\n",
    "\tdecbook = {'5':'a', '2':'b', '#':'d', '8':'e', '1':'f', '3':'g', '4':'h', '6':'i', '0':'l', '9':'m',\\\n",
    "\t\t\t'*':'n', '%':'o', '=':'p', '(':'r', ')':'s', ';':'t', '?':'u', '@':'v', ':':'y', '7':' '}\n",
    "\t\t\n",
    "\tencbook = {}\n",
    "\tfor k in decbook:\n",
    "\t\tval = decbook[k]\n",
    "\t\tencbook[val] = k\n",
    "\n",
    "\treturn encbook, decbook"
   ]
  },
  {
   "cell_type": "code",
   "execution_count": 26,
   "id": "fce09008-bfcc-43a1-bfab-5d4f286af951",
   "metadata": {},
   "outputs": [
    {
     "name": "stdout",
     "output_type": "stream",
     "text": [
      " \n",
      "l\n",
      "o\n",
      "v\n",
      "e\n",
      " \n",
      "y\n",
      "o\n",
      "u\n",
      "I70%@87:%?.\n"
     ]
    }
   ],
   "source": [
    "msg = 'I love you.'\n",
    "\n",
    "for c in msg:\n",
    "    if c in encbook:\n",
    "        print(c)\n",
    "        msg = msg.replace(c, encbook[c])\n",
    "\n",
    "print(msg)"
   ]
  },
  {
   "cell_type": "code",
   "execution_count": null,
   "id": "61097743-89c7-4e8f-a4b1-9918f776f483",
   "metadata": {},
   "outputs": [],
   "source": []
  },
  {
   "cell_type": "code",
   "execution_count": 1,
   "id": "1fc6c19a-fc75-4890-a0ad-cc7a78ad505d",
   "metadata": {},
   "outputs": [],
   "source": [
    "def encrypt(msg, encbook):\n",
    "\tfor c in msg:\n",
    "\t\tif c in encbook:\n",
    "\t\t\tmsg = msg.replace(c, encbook[c])\t\t\t\n",
    "\treturn  msg"
   ]
  },
  {
   "cell_type": "code",
   "execution_count": 2,
   "id": "c6b8db90-3fe5-4385-b1f2-d97342e656f0",
   "metadata": {},
   "outputs": [],
   "source": [
    "def decrypt(msg, decbook):\n",
    "\tfor c in msg:\n",
    "\t\tif c in decbook:\n",
    "\t\t\tmsg = msg.replace(c, decbook[c])\t\t\n",
    "\treturn msg"
   ]
  },
  {
   "cell_type": "code",
   "execution_count": 10,
   "id": "4ce07617-3414-44c8-aa42-3a68f00b7c2c",
   "metadata": {},
   "outputs": [],
   "source": [
    "plaintext = 'I love you with all my heart.'"
   ]
  },
  {
   "cell_type": "code",
   "execution_count": 11,
   "id": "ad7a1cb0-3038-47e0-8564-69cd88ad2e1e",
   "metadata": {},
   "outputs": [
    {
     "name": "stdout",
     "output_type": "stream",
     "text": [
      "I70%@87:%?7w6;4750079:7485(;.\n"
     ]
    }
   ],
   "source": [
    "encbook, decbook = makeCodebook()\t\t\n",
    "ciphertext = encrypt(plaintext, encbook)\n",
    "print (ciphertext)"
   ]
  },
  {
   "cell_type": "code",
   "execution_count": 12,
   "id": "7ed469d3-2157-4321-857b-5f26f8ea6124",
   "metadata": {},
   "outputs": [
    {
     "name": "stdout",
     "output_type": "stream",
     "text": [
      "I love you with all my heart.\n"
     ]
    }
   ],
   "source": [
    "deciphertext = decrypt(ciphertext, decbook)\n",
    "print (deciphertext)"
   ]
  },
  {
   "cell_type": "code",
   "execution_count": 16,
   "id": "ca13a198-fd5b-4484-a2e7-c0facd7f7c05",
   "metadata": {},
   "outputs": [],
   "source": [
    "plaintext = \"\"\"\n",
    "a good glass in the bishop's hostel in the devil's seat forty-one degrees and thirteen minutes northeast and by north main branch seventh limb east side shoot from the left eye of the death's-head a bee line from the tree through the shot fifty feet out.\n",
    "\"\"\""
   ]
  },
  {
   "cell_type": "code",
   "execution_count": 27,
   "id": "a971b8ae-ad6b-498d-b4e0-b8bdf3298100",
   "metadata": {},
   "outputs": [],
   "source": [
    "plaintext = \"\"\"\n",
    "agoodglassinthebishop'shostelinthedevil'sseatforty-onedegreesandthirteenminutesnortheastandbynorthmain\n",
    "branchseventhlimbeastsideshootfromthelefteyeofthedeath's-headabeelinefromthetreethroughtheshotfiftyfeetout.\n",
    "\"\"\""
   ]
  },
  {
   "cell_type": "code",
   "execution_count": 28,
   "id": "5c0e8212-4814-41da-b8ac-96ebb643ec73",
   "metadata": {},
   "outputs": [
    {
     "name": "stdout",
     "output_type": "stream",
     "text": [
      "\n",
      "53%%#305))6*;4826)4%=')4%);806*;48#8@60'))85;1%(;:-%*8#83(88)5*#;46(;88*96*?;8)*%(;485);5*#2:*%(;4956*\n",
      "2(5*c4)8@8*;4069285);)6#8)4%%;1(%9;48081;8:8%1;48#85;4')-485#528806*81(%9;48;(88;4(%?34;48)4%;161;:188;%?;.\n",
      "\n"
     ]
    }
   ],
   "source": [
    "ciphertext = encrypt(plaintext, encbook)\n",
    "print (ciphertext)"
   ]
  },
  {
   "cell_type": "code",
   "execution_count": 18,
   "id": "eef7d890-104f-4911-bb92-c985f5410d79",
   "metadata": {},
   "outputs": [
    {
     "name": "stdout",
     "output_type": "stream",
     "text": [
      "\n",
      "a good glass in the bishop's hostel in the devil's seat forty-one degrees and thirteen minutes northeast and by north main branch seventh limb east side shoot from the left eye of the death's-head a bee line from the tree through the shot fifty feet out.\n",
      "\n"
     ]
    }
   ],
   "source": [
    "deciphertext = decrypt(ciphertext, decbook)\n",
    "print (deciphertext)"
   ]
  },
  {
   "cell_type": "code",
   "execution_count": null,
   "id": "1bf152db-77ca-451c-9f33-708c4add1e63",
   "metadata": {},
   "outputs": [],
   "source": []
  }
 ],
 "metadata": {
  "kernelspec": {
   "display_name": "Python 3 (ipykernel)",
   "language": "python",
   "name": "python3"
  },
  "language_info": {
   "codemirror_mode": {
    "name": "ipython",
    "version": 3
   },
   "file_extension": ".py",
   "mimetype": "text/x-python",
   "name": "python",
   "nbconvert_exporter": "python",
   "pygments_lexer": "ipython3",
   "version": "3.12.8"
  }
 },
 "nbformat": 4,
 "nbformat_minor": 5
}
